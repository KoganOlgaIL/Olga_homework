{
 "cells": [
  {
   "cell_type": "markdown",
   "id": "07ac403d",
   "metadata": {},
   "source": [
    "# Автоматизация работы секретаря."
   ]
  },
  {
   "cell_type": "markdown",
   "id": "d14ebeae",
   "metadata": {},
   "source": [
    "Нам нужно помочь секретарю автоматизировать работу. Для этого мы напишем программу, которая будет на основе хранимых данных исполнять пользовательские команды.\n",
    "Исходные данные имеют следующую структуру:\n",
    "1. documents - перечень всех документов\n",
    "2. directories - перечень полок, на которых хранятся документы (если документ есть в documents, то он обязательно должен быть и в directories)"
   ]
  },
  {
   "cell_type": "code",
   "execution_count": 1,
   "id": "c20d7677",
   "metadata": {},
   "outputs": [],
   "source": [
    "documents = [\n",
    " {'type': 'passport', 'number': '2207 876234', 'name': 'Василий Гупкин'},\n",
    " {'type': 'invoice', 'number': '11-2', 'name': 'Геннадий Покемонов'},\n",
    " {'type': 'insurance', 'number': '10006', 'name': 'Аристарх Павлов'}\n",
    "]\n",
    "\n",
    "\n",
    "directories = {\n",
    " '1': ['2207 876234', '11-2'],\n",
    " '2': ['10006'],\n",
    " '3': []\n",
    "}"
   ]
  },
  {
   "cell_type": "code",
   "execution_count": 2,
   "id": "5745e300",
   "metadata": {},
   "outputs": [
    {
     "name": "stdout",
     "output_type": "stream",
     "text": [
      "Введите номер документа:75757\n",
      "Документ не найден в базе\n"
     ]
    }
   ],
   "source": [
    "## 1. Функция \"p\" - узнать владельца документа по его номеру (через пользовательский ввод)\n",
    "\n",
    "def p():\n",
    "    search = False\n",
    "    num = input(\"Введите номер документа:\")\n",
    "    for dic in documents:\n",
    "        if \"number\" in dic.keys() and dic[\"number\"] == num:\n",
    "            print(dic[\"name\"])\n",
    "            search = True\n",
    "\n",
    "    if not search:\n",
    "        print(\"Документ не найден в базе\")\n",
    "\n",
    "p()"
   ]
  },
  {
   "cell_type": "code",
   "execution_count": 8,
   "id": "161adc9f",
   "metadata": {},
   "outputs": [
    {
     "name": "stdout",
     "output_type": "stream",
     "text": [
      "Введите номер документа: 10006\n",
      "2\n"
     ]
    }
   ],
   "source": [
    "## 2. Функция \"s\" выводит номер полки, на которой находится документ (через пользовательский ввод)\n",
    "\n",
    "def s():\n",
    "    document_number = input(\"Введите номер документа: \")\n",
    "    for k in directories:\n",
    "        if document_number in directories[k]:\n",
    "            return k\n",
    "    return \"Документ не найден в базе\"\n",
    "\n",
    "\n",
    "print(s())\n"
   ]
  },
  {
   "cell_type": "code",
   "execution_count": 20,
   "id": "3f49d7d6",
   "metadata": {},
   "outputs": [
    {
     "name": "stdout",
     "output_type": "stream",
     "text": [
      "№2207 876234, тип: passport, владелец: Василий Гупкин, полка хранения: 1\n",
      "№11-2, тип: invoice, владелец: Геннадий Покемонов, полка хранения: 1\n",
      "№10006, тип: insurance, владелец: Аристарх Павлов, полка хранения: 2\n"
     ]
    }
   ],
   "source": [
    "## 3. функция \"l\" выводит полные данные по документам в заданном формате\n",
    "\n",
    "def l(docs, dirs):\n",
    "    for shelf, content in directories.items():\n",
    "        for doc in documents:\n",
    "            if doc['number'] in content:\n",
    "                print(f\"№{doc['number']}, тип: {doc['type']}, владелец: {doc['name']}, полка хранения: {shelf}\")\n",
    "                \n",
    "l(documents, directories)\n"
   ]
  },
  {
   "cell_type": "code",
   "execution_count": 11,
   "id": "04b2d256",
   "metadata": {},
   "outputs": [
    {
     "name": "stdout",
     "output_type": "stream",
     "text": [
      "Введите номер полки: 3\n",
      "Такая полка уже существует. Текущий перечень полок: ['1', '2', '3', '22']\n"
     ]
    }
   ],
   "source": [
    "## 4. Функция  \"ads\" по команде добавляет новую полку\n",
    "\n",
    "def ads():\n",
    "    shelf = input(\"Введите номер полки: \")\n",
    "    for direct in directories.items():\n",
    "        if shelf in direct[0]:\n",
    "            print(f\"Такая полка уже существует. Текущий перечень полок: {list(directories.keys())}\")\n",
    "            break\n",
    "    else:\n",
    "        directories[shelf] = []\n",
    "        print(f\"Полка добавлена. Текущий перечень полок: {list(directories.keys())}\")\n",
    "     \n",
    "ads()"
   ]
  },
  {
   "cell_type": "code",
   "execution_count": 17,
   "id": "2fa0a566",
   "metadata": {},
   "outputs": [
    {
     "name": "stdout",
     "output_type": "stream",
     "text": [
      "Введите номер документа, который хотите удалить: 55\n",
      "Текущий перечень полок: ['1', '2', '3']\n"
     ]
    }
   ],
   "source": [
    "## 5. Функция \"ds\" удаляет существующую полку из данных (только если она пустая)\n",
    "\n",
    "directories = {\n",
    "    '1': ['2207 876234', '11-2', '5455 028765'],\n",
    "    '2': ['10006', '5400 028765', '5455 002299'],\n",
    "    '3': []\n",
    "}\n",
    "\n",
    "documents = [\n",
    "    {'type': 'passport', 'number': '2207 876234', 'name': 'Василий Гупкин'},\n",
    "    {'type': 'invoice', 'number': '11-2', 'name': 'Геннадий Покемонов'},\n",
    "    {'type': 'insurance', 'number': '10006', 'name': 'Аристарх Павлов'}\n",
    "]\n",
    "\n",
    "def d(doc_number):\n",
    "    initial_len = len(documents)\n",
    "    for i, d in enumerate(documents):\n",
    "        if d[\"number\"] == doc_number:\n",
    "            documents.pop(i)\n",
    "\n",
    "    if initial_len == len(documents):\n",
    "        return \"Документ не существует\"\n",
    "\n",
    "    for key, value in directories.items():\n",
    "        if doc_number in value:\n",
    "            value.remove(doc_number)\n",
    "        return \"Полка удалена\"\n",
    "\n",
    "doc_number = input(\"Введите номер документа, который хотите удалить: \")\n",
    "print(f\"Текущий перечень полок: {list(directories.keys())}\")"
   ]
  },
  {
   "cell_type": "code",
   "execution_count": null,
   "id": "96246ec4",
   "metadata": {},
   "outputs": [],
   "source": []
  }
 ],
 "metadata": {
  "kernelspec": {
   "display_name": "Python 3",
   "language": "python",
   "name": "python3"
  },
  "language_info": {
   "codemirror_mode": {
    "name": "ipython",
    "version": 3
   },
   "file_extension": ".py",
   "mimetype": "text/x-python",
   "name": "python",
   "nbconvert_exporter": "python",
   "pygments_lexer": "ipython3",
   "version": "3.8.8"
  }
 },
 "nbformat": 4,
 "nbformat_minor": 5
}
