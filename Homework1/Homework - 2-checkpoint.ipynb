{
 "cells": [
  {
   "cell_type": "markdown",
   "id": "f3f02696",
   "metadata": {},
   "source": [
    "# Задание 1. Длина фразы"
   ]
  },
  {
   "cell_type": "code",
   "execution_count": 8,
   "id": "00d425bf",
   "metadata": {},
   "outputs": [
    {
     "name": "stdout",
     "output_type": "stream",
     "text": [
      "Фраза 1 длиннее фразы 2\n"
     ]
    }
   ],
   "source": [
    "a = 'Насколько проще было бы писать программы, если бы не заказчики'\n",
    "b = '640Кб должно хватить для любых задач. Билл Гейтс (по легенде)'\n",
    "\n",
    "if len(a) > len(b):\n",
    "   print (\"Фраза 1 длиннее фразы 2\")\n",
    "elif len(a) == len(b):\n",
    "    print (\"Фразы равной длины\")\n",
    "else:\n",
    "   print (\"Фраза 2 длиннее фразы 1\")"
   ]
  },
  {
   "cell_type": "code",
   "execution_count": 9,
   "id": "6744ca92",
   "metadata": {},
   "outputs": [
    {
     "name": "stdout",
     "output_type": "stream",
     "text": [
      "Фразы равной длины\n"
     ]
    }
   ],
   "source": [
    "phrase_1 = 'Насколько проще было бы писать программы, если бы не заказчики'\n",
    "phrase_2 = 'Насколько проще было бы писать программы, если бы не заказчики'\n",
    "\n",
    "if len(phrase_1) > len(phrase_2):\n",
    "   print (\"Фраза 1 длиннее фразы 2\")\n",
    "elif len(phrase_1) == len(phrase_2):\n",
    "    print (\"Фразы равной длины\")\n",
    "else:\n",
    "   print (\"Фраза 2 длиннее фразы 1\")"
   ]
  },
  {
   "cell_type": "markdown",
   "id": "a3bda36b",
   "metadata": {},
   "source": [
    "# Задание 2. Високосный год"
   ]
  },
  {
   "cell_type": "code",
   "execution_count": 10,
   "id": "b1e23efb",
   "metadata": {},
   "outputs": [
    {
     "name": "stdout",
     "output_type": "stream",
     "text": [
      "Високосный год\n"
     ]
    }
   ],
   "source": [
    "year = 2020\n",
    "\n",
    "if year%4 == 0:\n",
    "    print (\"Високосный год\")"
   ]
  },
  {
   "cell_type": "code",
   "execution_count": 11,
   "id": "d570530c",
   "metadata": {},
   "outputs": [
    {
     "name": "stdout",
     "output_type": "stream",
     "text": [
      "Обычный год\n"
     ]
    }
   ],
   "source": [
    "year = 2019\n",
    "\n",
    "if year%4 == 0:\n",
    "    print (\"Високосный год\")\n",
    "else:\n",
    "    print (\"Обычный год\")"
   ]
  },
  {
   "cell_type": "markdown",
   "id": "6ea03dee",
   "metadata": {},
   "source": [
    "# Задание 3. Знак зодиака"
   ]
  },
  {
   "cell_type": "code",
   "execution_count": null,
   "id": "4db36fcd",
   "metadata": {},
   "outputs": [],
   "source": [
    "month = int(input('Введите месяц рождения:'))\n",
    "day = int(input('Введите день рождения:'))\n",
    "\n",
    "if (month == 1 and day >= 20) or (month == 2 and day <= 18):\n",
    "    print(\"Водолей\")\n",
    "elif (month == 2 and day >= 19) or (month == 3 and day <= 20):\n",
    "    print(\"Рыбы\")\n",
    "elif (month ==3 and day >=21) or (month ==4 and day <=19):\n",
    "    print (\"Овен\")\n",
    "elif (month==4 and day>=20) or (month==5 and day<=20):\n",
    "    print (\"Телец\")\n",
    "elif (month==5 and day>=21) or (month==6 and day<=21):\n",
    "    print (\"Близнецы\")\n",
    "elif (month==6 and day>=22) or (month==7 and day<=22):\n",
    "    print (\"Рак\")\n",
    "elif (month==7 and day>=23) or (month==8 and day<=22): \n",
    "    print (\"Лев\")\n",
    "elif (month==8 and day>=23) or (month==9 and day<=22):\n",
    "    print (\"Дева\")\n",
    "elif (month==9 and day>=23) or (month==10 and day<=22):\n",
    "    print (\"Весы\")\n",
    "elif (month==10 and day>=23) or (month==11 and day<=21):\n",
    "    print (\"Скорпион\")\n",
    "elif (month==11 and day>=22) or (month==12 and day<=21): \n",
    "    print (\"Стрелец\")\n",
    "elif (month==12 and day>=22) or (month==1 and day<=19):\n",
    "    print (\"Козерог\")\n",
    "else:\n",
    "    print(\"Неверные данные\")"
   ]
  },
  {
   "cell_type": "markdown",
   "id": "04b6e569",
   "metadata": {},
   "source": [
    "# Задание 4. Упаковка"
   ]
  },
  {
   "cell_type": "code",
   "execution_count": 18,
   "id": "73830b53",
   "metadata": {},
   "outputs": [
    {
     "name": "stdout",
     "output_type": "stream",
     "text": [
      "Коробка №2\n"
     ]
    }
   ],
   "source": [
    "width = 10\n",
    "length = 14\n",
    "height = 25\n",
    "\n",
    "if (width < 15 and length < 15 and height < 15):\n",
    "    print (\"Коробка №1\")\n",
    "elif (15 < width < 50) or (15 < length < 50) or (15 < height < 50):\n",
    "    print (\"Коробка №2\")\n",
    "elif length > 200:\n",
    "    print (\"Коробка для лыж\")\n",
    "else:\n",
    "    print (\"не верные параметры\")"
   ]
  },
  {
   "cell_type": "code",
   "execution_count": null,
   "id": "a2572cc3",
   "metadata": {},
   "outputs": [],
   "source": []
  }
 ],
 "metadata": {
  "kernelspec": {
   "display_name": "Python 3",
   "language": "python",
   "name": "python3"
  },
  "language_info": {
   "codemirror_mode": {
    "name": "ipython",
    "version": 3
   },
   "file_extension": ".py",
   "mimetype": "text/x-python",
   "name": "python",
   "nbconvert_exporter": "python",
   "pygments_lexer": "ipython3",
   "version": "3.8.8"
  }
 },
 "nbformat": 4,
 "nbformat_minor": 5
}
