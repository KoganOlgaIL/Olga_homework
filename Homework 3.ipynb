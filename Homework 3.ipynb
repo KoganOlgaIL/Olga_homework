{
 "cells": [
  {
   "cell_type": "markdown",
   "id": "93c88846",
   "metadata": {},
   "source": [
    "# Задание 1. Четное-нечетное кол-во букв"
   ]
  },
  {
   "cell_type": "code",
   "execution_count": 12,
   "id": "ea85bd6c",
   "metadata": {},
   "outputs": [
    {
     "name": "stdout",
     "output_type": "stream",
     "text": [
      "['e', 's']\n"
     ]
    }
   ],
   "source": [
    "a = 'test'\n",
    "b = len(list(a))\n",
    "\n",
    "if len(a) % 2 == 0:\n",
    "    print(list(a)[int(b/2-1):int(b/2+1)])\n",
    "else:\n",
    "    print(list(a)[int(b/2)])"
   ]
  },
  {
   "cell_type": "markdown",
   "id": "9d9ba845",
   "metadata": {},
   "source": [
    "# Задание 2. Cумму всех ранее введенных чисел"
   ]
  },
  {
   "cell_type": "code",
   "execution_count": 10,
   "id": "7d187575",
   "metadata": {},
   "outputs": [
    {
     "name": "stdout",
     "output_type": "stream",
     "text": [
      "45\n",
      "67\n",
      "45\n",
      "0\n",
      "112\n"
     ]
    }
   ],
   "source": [
    "a = int(input())\n",
    "sum = 0\n",
    "while a != 0:\n",
    "    sum += a\n",
    "    a = int(input())\n",
    "    print(sum)"
   ]
  },
  {
   "cell_type": "markdown",
   "id": "3676ed90",
   "metadata": {},
   "source": [
    "# Задание 3. MVP dating-сервиса\n"
   ]
  },
  {
   "cell_type": "code",
   "execution_count": null,
   "id": "cc8990fb",
   "metadata": {},
   "outputs": [],
   "source": [
    "b = ['Peter', 'Alex', 'John', 'Arthur', 'Richard']\n",
    "g = ['Kate', 'Liza', 'Kira', 'Emma', 'Trisha']"
   ]
  },
  {
   "cell_type": "code",
   "execution_count": null,
   "id": "c9258f35",
   "metadata": {},
   "outputs": [],
   "source": [
    "for pair in zip(sorted(b), sorted(g)):\n",
    "    print(f'{pair[0]} and {pair[1]}')"
   ]
  },
  {
   "cell_type": "markdown",
   "id": "fca6380d",
   "metadata": {},
   "source": [
    "# Задание 4. Средняя температура"
   ]
  },
  {
   "cell_type": "code",
   "execution_count": 5,
   "id": "5e823e9f",
   "metadata": {},
   "outputs": [
    {
     "name": "stdout",
     "output_type": "stream",
     "text": [
      "[['Thailand', 24.05], ['Germany', 13.91], ['Russia', 3.74], ['Poland', 12.1]]\n"
     ]
    }
   ],
   "source": [
    "countries_temperature = [\n",
    "    ['Thailand', [75.2, 77, 78.8, 73.4, 68, 75.2, 77]],\n",
    "    ['Germany', [57.2, 55.4, 59, 59, 53.6]],\n",
    "    ['Russia', [35.6, 37.4, 39.2, 41, 42.8, 39.2, 35.6]],\n",
    "    ['Poland', [50, 50, 53.6, 57.2, 55.4, 55.4]]\n",
    "]\n",
    "\n",
    "celsius = list(map(lambda x: [x[0], round((sum(x[1])/len(x[1]) - 32) * 0.56, 2)], countries_temperature))\n",
    " \n",
    "print(celsius)"
   ]
  },
  {
   "cell_type": "code",
   "execution_count": null,
   "id": "7a185fad",
   "metadata": {},
   "outputs": [],
   "source": []
  }
 ],
 "metadata": {
  "kernelspec": {
   "display_name": "Python 3",
   "language": "python",
   "name": "python3"
  },
  "language_info": {
   "codemirror_mode": {
    "name": "ipython",
    "version": 3
   },
   "file_extension": ".py",
   "mimetype": "text/x-python",
   "name": "python",
   "nbconvert_exporter": "python",
   "pygments_lexer": "ipython3",
   "version": "3.8.8"
  }
 },
 "nbformat": 4,
 "nbformat_minor": 5
}
